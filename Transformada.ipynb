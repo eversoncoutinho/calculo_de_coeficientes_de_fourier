{
 "cells": [
  {
   "cell_type": "code",
   "execution_count": 1,
   "metadata": {},
   "outputs": [],
   "source": [
    "%matplotlib inline\n",
    "import numpy as np\n",
    "import matplotlib.pyplot as plt\n"
   ]
  },
  {
   "cell_type": "markdown",
   "metadata": {},
   "source": [
    "ak = 1/N somatorio(fn*(cos(2pikn/N)-sen(2pikn/N))"
   ]
  },
  {
   "cell_type": "code",
   "execution_count": 2,
   "metadata": {},
   "outputs": [],
   "source": [
    "f = np.array([-8,9,11,20,-8,-6,-3,14])\n",
    "N = f.shape #conta a quantidade de itens em f\n",
    "N=N[0]\n",
    "x = np.array(range(0,N))"
   ]
  },
  {
   "cell_type": "code",
   "execution_count": 3,
   "metadata": {},
   "outputs": [
    {
     "data": {
      "text/plain": [
       "array([0, 1, 2, 3, 4, 5, 6, 7])"
      ]
     },
     "execution_count": 3,
     "metadata": {},
     "output_type": "execute_result"
    }
   ],
   "source": [
    "x"
   ]
  },
  {
   "cell_type": "code",
   "execution_count": 4,
   "metadata": {},
   "outputs": [],
   "source": [
    "k=5\n",
    "pi=np.pi"
   ]
  },
  {
   "cell_type": "code",
   "execution_count": 5,
   "metadata": {},
   "outputs": [
    {
     "name": "stdout",
     "output_type": "stream",
     "text": [
      "Sinal = [-8  9 11 20 -8 -6 -3 14]\n",
      "\n",
      "Para k = 5\n",
      "____________________________________________________________\n",
      "----------------------------------------\n",
      "n = 0 \n",
      "f(0)=-8.00\n",
      "Parte real(cos) = -8*(1.00)=-8.00\n",
      "Parte imaginaria(-sen) = -8*(-0.00)=0.00\n",
      "----------------------------------------\n",
      "n = 1 \n",
      "f(1)=9.00\n",
      "Parte real(cos) = 9*(-0.71)=-6.36\n",
      "Parte imaginaria(-sen) = 9*(0.71)=6.36\n",
      "----------------------------------------\n",
      "n = 2 \n",
      "f(2)=11.00\n",
      "Parte real(cos) = 11*(0.00)=0.00\n",
      "Parte imaginaria(-sen) = 11*(-1.00)=-11.00\n",
      "----------------------------------------\n",
      "n = 3 \n",
      "f(3)=20.00\n",
      "Parte real(cos) = 20*(0.71)=14.14\n",
      "Parte imaginaria(-sen) = 20*(0.71)=14.14\n",
      "----------------------------------------\n",
      "n = 4 \n",
      "f(4)=-8.00\n",
      "Parte real(cos) = -8*(-1.00)=8.00\n",
      "Parte imaginaria(-sen) = -8*(-0.00)=0.00\n",
      "----------------------------------------\n",
      "n = 5 \n",
      "f(5)=-6.00\n",
      "Parte real(cos) = -6*(0.71)=-4.24\n",
      "Parte imaginaria(-sen) = -6*(-0.71)=4.24\n",
      "----------------------------------------\n",
      "n = 6 \n",
      "f(6)=-3.00\n",
      "Parte real(cos) = -3*(-0.00)=0.00\n",
      "Parte imaginaria(-sen) = -3*(1.00)=-3.00\n",
      "----------------------------------------\n",
      "n = 7 \n",
      "f(7)=14.00\n",
      "Parte real(cos) = 14*(-0.71)=-9.90\n",
      "Parte imaginaria(-sen) = 14*(-0.71)=-9.90\n",
      "____________________________________________________________\n",
      "\n",
      "Somatório final:\n",
      "a5(real) = -0.80\n",
      "a5(Imaginária) = 0.11\n"
     ]
    }
   ],
   "source": [
    "real=imag=0\n",
    "print(f'Sinal = {f}\\n')\n",
    "print(f'Para k = {k}')\n",
    "print(20*'___')\n",
    "for n in x:\n",
    "    fn = f[n]\n",
    "    cos = np.cos(2*pi*k*n/N) #coseno\n",
    "    sen = -np.sin(2*pi*k*n/N) #seno\n",
    "    fnc = fn*cos\n",
    "    fns = fn*sen\n",
    "    real += fn*cos\n",
    "    imag += fn*sen\n",
    "    print(20*'--')\n",
    "    print(f'n = {n} ')\n",
    "    print('f({})={:.2f}'.format(n,fn))\n",
    "    print('Parte real(cos) = {}*({:.2f})={:.2f}'.format(fn,cos,fnc))\n",
    "    print('Parte imaginaria(-sen) = {}*({:.2f})={:.2f}'.format(fn,sen,fns))\n",
    "print(20*'___'+'\\n')\n",
    "print('Somatório final:')\n",
    "print('a{}(real) = {:.2f}'.format(k,real/N))\n",
    "print('a{}(Imaginária) = {:.2f}'.format(k,imag/N))\n",
    "    "
   ]
  },
  {
   "cell_type": "code",
   "execution_count": 6,
   "metadata": {},
   "outputs": [],
   "source": [
    "trans = np.fft.fft(f)"
   ]
  },
  {
   "cell_type": "code",
   "execution_count": 7,
   "metadata": {},
   "outputs": [
    {
     "data": {
      "text/plain": [
       "array([ 3.625     +0.j       ,  0.79549513-3.6061553j,\n",
       "       -3.        +3.875j    , -0.79549513-0.1061553j,\n",
       "       -5.625     +0.j       , -0.79549513+0.1061553j,\n",
       "       -3.        -3.875j    ,  0.79549513+3.6061553j])"
      ]
     },
     "execution_count": 7,
     "metadata": {},
     "output_type": "execute_result"
    }
   ],
   "source": [
    "trans/8\n"
   ]
  }
 ],
 "metadata": {
  "kernelspec": {
   "display_name": "Python 3",
   "language": "python",
   "name": "python3"
  },
  "language_info": {
   "codemirror_mode": {
    "name": "ipython",
    "version": 3
   },
   "file_extension": ".py",
   "mimetype": "text/x-python",
   "name": "python",
   "nbconvert_exporter": "python",
   "pygments_lexer": "ipython3",
   "version": "3.8.5"
  }
 },
 "nbformat": 4,
 "nbformat_minor": 4
}
